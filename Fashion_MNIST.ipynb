{
  "nbformat": 4,
  "nbformat_minor": 0,
  "metadata": {
    "colab": {
      "name": "Fashion_MNIST.ipynb",
      "provenance": [],
      "collapsed_sections": [],
      "authorship_tag": "ABX9TyMvLYdG89ib/gLwpg/ocCoL",
      "include_colab_link": true
    },
    "kernelspec": {
      "name": "python3",
      "display_name": "Python 3"
    },
    "language_info": {
      "name": "python"
    },
    "accelerator": "GPU"
  },
  "cells": [
    {
      "cell_type": "markdown",
      "metadata": {
        "id": "view-in-github",
        "colab_type": "text"
      },
      "source": [
        "<a href=\"https://colab.research.google.com/github/Yadukrishnan1/Computer-Vision/blob/main/Fashion_MNIST.ipynb\" target=\"_parent\"><img src=\"https://colab.research.google.com/assets/colab-badge.svg\" alt=\"Open In Colab\"/></a>"
      ]
    },
    {
      "cell_type": "code",
      "metadata": {
        "cellView": "form",
        "id": "_ckMIh7O7s6D"
      },
      "source": [
        "#@title Licensed under the Apache License, Version 2.0 (the \"License\");\n",
        "# you may not use this file except in compliance with the License.\n",
        "# You may obtain a copy of the License at\n",
        "#\n",
        "# https://www.apache.org/licenses/LICENSE-2.0\n",
        "#\n",
        "# Unless required by applicable law or agreed to in writing, software\n",
        "# distributed under the License is distributed on an \"AS IS\" BASIS,\n",
        "# WITHOUT WARRANTIES OR CONDITIONS OF ANY KIND, either express or implied.\n",
        "# See the License for the specific language governing permissions and\n",
        "# limitations under the License."
      ],
      "execution_count": null,
      "outputs": []
    },
    {
      "cell_type": "code",
      "metadata": {
        "id": "vasWnqRgy1H4",
        "cellView": "form"
      },
      "source": [
        "#@title MIT License\n",
        "#\n",
        "# Copyright (c) 2017 François Chollet\n",
        "#\n",
        "# Permission is hereby granted, free of charge, to any person obtaining a\n",
        "# copy of this software and associated documentation files (the \"Software\"),\n",
        "# to deal in the Software without restriction, including without limitation\n",
        "# the rights to use, copy, modify, merge, publish, distribute, sublicense,\n",
        "# and/or sell copies of the Software, and to permit persons to whom the\n",
        "# Software is furnished to do so, subject to the following conditions:\n",
        "#\n",
        "# The above copyright notice and this permission notice shall be included in\n",
        "# all copies or substantial portions of the Software.\n",
        "#\n",
        "# THE SOFTWARE IS PROVIDED \"AS IS\", WITHOUT WARRANTY OF ANY KIND, EXPRESS OR\n",
        "# IMPLIED, INCLUDING BUT NOT LIMITED TO THE WARRANTIES OF MERCHANTABILITY,\n",
        "# FITNESS FOR A PARTICULAR PURPOSE AND NONINFRINGEMENT. IN NO EVENT SHALL\n",
        "# THE AUTHORS OR COPYRIGHT HOLDERS BE LIABLE FOR ANY CLAIM, DAMAGES OR OTHER\n",
        "# LIABILITY, WHETHER IN AN ACTION OF CONTRACT, TORT OR OTHERWISE, ARISING\n",
        "# FROM, OUT OF OR IN CONNECTION WITH THE SOFTWARE OR THE USE OR OTHER\n",
        "# DEALINGS IN THE SOFTWARE."
      ],
      "execution_count": null,
      "outputs": []
    },
    {
      "cell_type": "code",
      "metadata": {
        "id": "4kUYiNkero0O"
      },
      "source": [
        "# TensorFlow\n",
        "import tensorflow as tf\n",
        "from tensorflow import keras\n",
        "\n",
        "# Python support libraries\n",
        "import numpy as np\n",
        "import matplotlib.pyplot as plt"
      ],
      "execution_count": 2,
      "outputs": []
    },
    {
      "cell_type": "code",
      "metadata": {
        "id": "Giw1o2hgsBxj",
        "colab": {
          "base_uri": "https://localhost:8080/",
          "height": 367
        },
        "outputId": "a4e1d519-2cc2-4bb8-8712-c625492e3c60"
      },
      "source": [
        "# A dataset with a total of 70,000 clothing artifacts. 60,000 are for training purpose and 10,000 for testing purpose of our model.\n",
        "fashion = keras.datasets.fashion_mnist\n",
        "# Splitting the data for training and testing.\n",
        "(x_train, y_train), (x_test, y_test) = fashion.load_data() \n",
        "# Names of the artifacts\n",
        "fashion_label= ['T-shirt/top', 'Trouser', 'Pullover', 'Dress', 'Coat', 'Sandal', 'Shirt', 'Sneaker', 'Bag', 'Ankle boot']\n",
        "\n",
        "# Data exploration\n",
        "print('x_train shape = ', x_train.shape)\n",
        "print('y_train shape = ', y_train.shape, '\\n')\n",
        "\n",
        "print('x_test shape = ', x_test.shape)\n",
        "print('y_test shape = ', y_test.shape)\n",
        "\n",
        "# Print to see each item and corresponding labels\n",
        "plt.imshow(x_train[10])\n",
        "print(fashion_label[y_train[10]])\n",
        "\n",
        "# Normalization of the data\n",
        "x_train=x_train/255.0\n",
        "x_test=x_test/255.0\n"
      ],
      "execution_count": 22,
      "outputs": [
        {
          "output_type": "stream",
          "text": [
            "x_train shape =  (60000, 28, 28)\n",
            "y_train shape =  (60000,) \n",
            "\n",
            "x_test shape =  (10000, 28, 28)\n",
            "y_test shape =  (10000,)\n",
            "T-shirt/top\n"
          ],
          "name": "stdout"
        },
        {
          "output_type": "display_data",
          "data": {
            "image/png": "[encoded data removed]",
            "text/plain": [
              "<Figure size 432x288 with 1 Axes>"
            ]
          },
          "metadata": {
            "tags": [],
            "needs_background": "light"
          }
        }
      ]
    },
    {
      "cell_type": "code",
      "metadata": {
        "id": "Ww8cElscumW9"
      },
      "source": [
        "# Using callbacks to stop the training\n",
        "class myCallback(tf.keras.callbacks.Callback):\n",
        "  def on_epoch_end(self, epoch, logs={}):\n",
        "    if(logs.get('accuracy')>0.95):\n",
        "      print(\"\\nReached 95% accuracy, therefore stopped training.\")\n",
        "      self.model.stop_training = True\n",
        "callbacks = myCallback()"
      ],
      "execution_count": 27,
      "outputs": []
    },
    {
      "cell_type": "code",
      "metadata": {
        "colab": {
          "base_uri": "https://localhost:8080/",
          "height": 1000
        },
        "id": "5CKD2mpLbYdQ",
        "outputId": "414ae92f-f528-46b9-a301-b3d4d3aee45a"
      },
      "source": [
        "input_layers=[128, 256, 512, 1024]\n",
        "accuracy_input=[]\n",
        "\n",
        "for i in input_layers:\n",
        "  # Setting up the neural network from Keras package in TF\n",
        "  model = tf.keras.models.Sequential([tf.keras.layers.Flatten(), \n",
        "                                      tf.keras.layers.Dense(i, activation=tf.nn.relu), \n",
        "                                      tf.keras.layers.Dense(10, activation=tf.nn.softmax)])\n",
        "\n",
        "  # Compiling the model (Neural network)\n",
        "\n",
        "  model.compile(optimizer='adam',\n",
        "                loss= 'sparse_categorical_crossentropy',\n",
        "                metrics=['accuracy'])\n",
        "\n",
        "  model.fit(x_train, y_train, epochs=5, callbacks=[callbacks])\n",
        "  test_loss, test_acc = model.evaluate(x_test,  y_test, verbose=2)\n",
        "\n",
        "  print('\\nTest accuracy:', test_acc)\n",
        "  print('\\nTest loss:', test_loss)\n",
        "  accuracy_input.append(test_acc)\n",
        "\n",
        "plt.title('Accuracy Vs Input Layers')\n",
        "plt.plot(input_layers, accuracy_input,'k*-')\n",
        "plt.xlabel('Input Layers')\n",
        "plt.ylabel('Accuracy')\n",
        "plt.show()\n"
      ],
      "execution_count": 25,
      "outputs": [
        {
          "output_type": "stream",
          "text": [
            "Epoch 1/5\n",
            "1875/1875 [==============================] - 4s 2ms/step - loss: 7.8001 - accuracy: 0.6743\n",
            "Epoch 2/5\n",
            "1875/1875 [==============================] - 3s 2ms/step - loss: 0.7110 - accuracy: 0.7336\n",
            "Epoch 3/5\n",
            "1875/1875 [==============================] - 3s 2ms/step - loss: 0.6027 - accuracy: 0.7792\n",
            "Epoch 4/5\n",
            "1875/1875 [==============================] - 3s 2ms/step - loss: 0.5295 - accuracy: 0.8161\n",
            "Epoch 5/5\n",
            "1875/1875 [==============================] - 3s 2ms/step - loss: 0.5040 - accuracy: 0.8216\n",
            "313/313 - 0s - loss: 0.5971 - accuracy: 0.7922\n",
            "\n",
            "Test accuracy: 0.7922000288963318\n",
            "\n",
            "Test loss: 0.5971323251724243\n",
            "Epoch 1/5\n",
            "1875/1875 [==============================] - 4s 2ms/step - loss: 12.4106 - accuracy: 0.7097\n",
            "Epoch 2/5\n",
            "1875/1875 [==============================] - 3s 2ms/step - loss: 0.6206 - accuracy: 0.7932\n",
            "Epoch 3/5\n",
            "1875/1875 [==============================] - 3s 2ms/step - loss: 0.5256 - accuracy: 0.8204\n",
            "Epoch 4/5\n",
            "1875/1875 [==============================] - 3s 2ms/step - loss: 0.5181 - accuracy: 0.8248\n",
            "Epoch 5/5\n",
            "1875/1875 [==============================] - 3s 2ms/step - loss: 0.4984 - accuracy: 0.8337\n",
            "313/313 - 0s - loss: 0.5031 - accuracy: 0.8341\n",
            "\n",
            "Test accuracy: 0.8341000080108643\n",
            "\n",
            "Test loss: 0.5030508041381836\n",
            "Epoch 1/5\n",
            "1875/1875 [==============================] - 4s 2ms/step - loss: 14.3060 - accuracy: 0.7302\n",
            "Epoch 2/5\n",
            "1875/1875 [==============================] - 3s 2ms/step - loss: 0.5245 - accuracy: 0.8173\n",
            "Epoch 3/5\n",
            "1875/1875 [==============================] - 3s 2ms/step - loss: 0.5097 - accuracy: 0.8254\n",
            "Epoch 4/5\n",
            "1875/1875 [==============================] - 3s 2ms/step - loss: 0.5083 - accuracy: 0.8283\n",
            "Epoch 5/5\n",
            "1875/1875 [==============================] - 3s 2ms/step - loss: 0.4744 - accuracy: 0.8392\n",
            "313/313 - 0s - loss: 0.5031 - accuracy: 0.8361\n",
            "\n",
            "Test accuracy: 0.8360999822616577\n",
            "\n",
            "Test loss: 0.5031048059463501\n",
            "Epoch 1/5\n",
            "1875/1875 [==============================] - 4s 2ms/step - loss: 19.2490 - accuracy: 0.7338\n",
            "Epoch 2/5\n",
            "1875/1875 [==============================] - 3s 2ms/step - loss: 0.5173 - accuracy: 0.8232\n",
            "Epoch 3/5\n",
            "1875/1875 [==============================] - 3s 2ms/step - loss: 0.5034 - accuracy: 0.8299\n",
            "Epoch 4/5\n",
            "1875/1875 [==============================] - 3s 2ms/step - loss: 0.4944 - accuracy: 0.8350\n",
            "Epoch 5/5\n",
            "1875/1875 [==============================] - 3s 2ms/step - loss: 0.4680 - accuracy: 0.8432\n",
            "313/313 - 0s - loss: 0.5316 - accuracy: 0.8264\n",
            "\n",
            "Test accuracy: 0.8263999819755554\n",
            "\n",
            "Test loss: 0.5315565466880798\n"
          ],
          "name": "stdout"
        },
        {
          "output_type": "display_data",
          "data": {
            "image/png": "[encoded data removed]",
            "text/plain": [
              "<Figure size 432x288 with 1 Axes>"
            ]
          },
          "metadata": {
            "tags": [],
            "needs_background": "light"
          }
        }
      ]
    },
    {
      "cell_type": "markdown",
      "metadata": {
        "id": "3zRW3tcDaddV"
      },
      "source": [
        "# Convolutional neural networks"
      ]
    },
    {
      "cell_type": "code",
      "metadata": {
        "id": "JK-RDmM2dKct"
      },
      "source": [
        "# Using convolutional neural networks to improve the accuracy of the model.\n",
        "\n",
        "fashion = keras.datasets.fashion_mnist\n",
        "(x_train_conv, y_train), (x_test_conv, y_test) = fashion.load_data() \n",
        "\n",
        "x_train_conv=x_train_conv.reshape(60000, 28, 28, 1)\n",
        "x_test_conv=x_test_conv.reshape(10000, 28, 28, 1)\n",
        "\n",
        "x_train_conv=x_train_conv/255.\n",
        "x_test_conv=x_test_conv/255."
      ],
      "execution_count": 10,
      "outputs": []
    },
    {
      "cell_type": "code",
      "metadata": {
        "colab": {
          "base_uri": "https://localhost:8080/"
        },
        "id": "3_7_mjqG7VTx",
        "outputId": "c185d303-899c-4540-c342-9d3f90ac1893"
      },
      "source": [
        "# Deep Neural Netwrok model with convolutional layers and pooling.\n",
        "# Conv2D : neurons 64 & (3,3)\n",
        "# Pooling : (2,2)\n",
        "\n",
        "mymodel=tf.keras.models.Sequential([tf.keras.layers.Conv2D(64, (3,3), activation='relu', input_shape=(28, 28, 1)),\n",
        "                                    tf.keras.layers.MaxPooling2D(2,2),\n",
        "                                    tf.keras.layers.Conv2D(64, (3,3), activation='relu'),\n",
        "                                    tf.keras.layers.MaxPooling2D(2,2),\n",
        "\n",
        "                                    tf.keras.layers.Flatten(),\n",
        "                                    tf.keras.layers.Dense(128, activation='relu'),\n",
        "                                    tf.keras.layers.Dense(10, activation='softmax')\n",
        "                                   ]\n",
        "                                  )\n",
        "\n",
        "mymodel.compile(optimizer='adam', loss='sparse_categorical_crossentropy', metrics=['accuracy'])\n",
        "\n",
        "mymodel.summary()\n",
        "\n",
        "mymodel.fit(x_train_conv, y_train, epochs=5, callbacks=[callbacks])\n",
        "\n",
        "test_loss, test_acc=mymodel.evaluate(x_test_conv, y_test)\n",
        "\n",
        "print('\\nTest accuracy:', test_acc)\n",
        "print('\\nTest loss:', test_loss)"
      ],
      "execution_count": 28,
      "outputs": [
        {
          "output_type": "stream",
          "text": [
            "Model: \"sequential_10\"\n",
            "_________________________________________________________________\n",
            "Layer (type)                 Output Shape              Param #   \n",
            "=================================================================\n",
            "conv2d_4 (Conv2D)            (None, 26, 26, 64)        640       \n",
            "_________________________________________________________________\n",
            "max_pooling2d_4 (MaxPooling2 (None, 13, 13, 64)        0         \n",
            "_________________________________________________________________\n",
            "conv2d_5 (Conv2D)            (None, 11, 11, 64)        36928     \n",
            "_________________________________________________________________\n",
            "max_pooling2d_5 (MaxPooling2 (None, 5, 5, 64)          0         \n",
            "_________________________________________________________________\n",
            "flatten_10 (Flatten)         (None, 1600)              0         \n",
            "_________________________________________________________________\n",
            "dense_20 (Dense)             (None, 128)               204928    \n",
            "_________________________________________________________________\n",
            "dense_21 (Dense)             (None, 10)                1290      \n",
            "=================================================================\n",
            "Total params: 243,786\n",
            "Trainable params: 243,786\n",
            "Non-trainable params: 0\n",
            "_________________________________________________________________\n",
            "Epoch 1/5\n",
            "1875/1875 [==============================] - 6s 3ms/step - loss: 0.5970 - accuracy: 0.7870\n",
            "Epoch 2/5\n",
            "1875/1875 [==============================] - 5s 3ms/step - loss: 0.3027 - accuracy: 0.8897\n",
            "Epoch 3/5\n",
            "1875/1875 [==============================] - 5s 3ms/step - loss: 0.2525 - accuracy: 0.9056\n",
            "Epoch 4/5\n",
            "1875/1875 [==============================] - 5s 3ms/step - loss: 0.2148 - accuracy: 0.9206\n",
            "Epoch 5/5\n",
            "1875/1875 [==============================] - 5s 3ms/step - loss: 0.1865 - accuracy: 0.9303\n",
            "313/313 [==============================] - 1s 2ms/step - loss: 0.2459 - accuracy: 0.9114\n",
            "\n",
            "Test accuracy: 0.9114000201225281\n",
            "\n",
            "Test loss: 0.24585644900798798\n"
          ],
          "name": "stdout"
        }
      ]
    },
    {
      "cell_type": "code",
      "metadata": {
        "colab": {
          "base_uri": "https://localhost:8080/",
          "height": 1000
        },
        "id": "JeobLMSA9kyZ",
        "outputId": "d6c092bc-616d-405b-ec1c-aa3f7928ff1a"
      },
      "source": [
        "# Check the effect of convolution layers on accuracy\n",
        "\n",
        "conv_layers=[16,32,64, 128]\n",
        "conv_accuracy=[]\n",
        "for i in conv_layers:\n",
        "  mymodel=tf.keras.models.Sequential([tf.keras.layers.Conv2D(i, (3,3), activation='relu', input_shape=(28, 28, 1)),\n",
        "                                      tf.keras.layers.MaxPooling2D(2,2),\n",
        "                                      tf.keras.layers.Flatten(),\n",
        "                                      tf.keras.layers.Dense(128, activation='relu'),\n",
        "                                      tf.keras.layers.Dense(10, activation='softmax')\n",
        "                                     ]\n",
        "                                    )\n",
        "\n",
        "  mymodel.compile(optimizer='adam', loss='sparse_categorical_crossentropy', metrics=['accuracy'])\n",
        "\n",
        "  mymodel.summary()\n",
        "\n",
        "  mymodel.fit(x_train_conv, y_train, epochs=5)\n",
        "\n",
        "  test_loss, test_acc=mymodel.evaluate(x_test_conv, y_test)\n",
        "\n",
        "  print('\\nTest accuracy:', test_acc)\n",
        "  print('\\nTest loss:', test_loss)\n",
        "  conv_accuracy.append(test_acc)\n",
        "\n",
        "plt.title('Accuracy Vs Convolutional Layers')\n",
        "plt.plot(conv_layers, conv_accuracy,'k*-')\n",
        "plt.xlabel('Convolutional Layers')\n",
        "plt.ylabel('Accuracy')\n",
        "plt.show()"
      ],
      "execution_count": 11,
      "outputs": [
        {
          "output_type": "stream",
          "text": [
            "Model: \"sequential_1\"\n",
            "_________________________________________________________________\n",
            "Layer (type)                 Output Shape              Param #   \n",
            "=================================================================\n",
            "conv2d (Conv2D)              (None, 26, 26, 16)        160       \n",
            "_________________________________________________________________\n",
            "max_pooling2d (MaxPooling2D) (None, 13, 13, 16)        0         \n",
            "_________________________________________________________________\n",
            "flatten_1 (Flatten)          (None, 2704)              0         \n",
            "_________________________________________________________________\n",
            "dense_2 (Dense)              (None, 128)               346240    \n",
            "_________________________________________________________________\n",
            "dense_3 (Dense)              (None, 10)                1290      \n",
            "=================================================================\n",
            "Total params: 347,690\n",
            "Trainable params: 347,690\n",
            "Non-trainable params: 0\n",
            "_________________________________________________________________\n",
            "Epoch 1/5\n",
            "1875/1875 [==============================] - 33s 2ms/step - loss: 0.5880 - accuracy: 0.7920\n",
            "Epoch 2/5\n",
            "1875/1875 [==============================] - 4s 2ms/step - loss: 0.2931 - accuracy: 0.8941\n",
            "Epoch 3/5\n",
            "1875/1875 [==============================] - 4s 2ms/step - loss: 0.2400 - accuracy: 0.9129\n",
            "Epoch 4/5\n",
            "1875/1875 [==============================] - 4s 2ms/step - loss: 0.2075 - accuracy: 0.9233\n",
            "Epoch 5/5\n",
            "1875/1875 [==============================] - 4s 2ms/step - loss: 0.1806 - accuracy: 0.9333\n",
            "313/313 [==============================] - 1s 2ms/step - loss: 0.2561 - accuracy: 0.9105\n",
            "\n",
            "Test accuracy: 0.9104999899864197\n",
            "\n",
            "Test loss: 0.25610658526420593\n",
            "Model: \"sequential_2\"\n",
            "_________________________________________________________________\n",
            "Layer (type)                 Output Shape              Param #   \n",
            "=================================================================\n",
            "conv2d_1 (Conv2D)            (None, 26, 26, 32)        320       \n",
            "_________________________________________________________________\n",
            "max_pooling2d_1 (MaxPooling2 (None, 13, 13, 32)        0         \n",
            "_________________________________________________________________\n",
            "flatten_2 (Flatten)          (None, 5408)              0         \n",
            "_________________________________________________________________\n",
            "dense_4 (Dense)              (None, 128)               692352    \n",
            "_________________________________________________________________\n",
            "dense_5 (Dense)              (None, 10)                1290      \n",
            "=================================================================\n",
            "Total params: 693,962\n",
            "Trainable params: 693,962\n",
            "Non-trainable params: 0\n",
            "_________________________________________________________________\n",
            "Epoch 1/5\n",
            "1875/1875 [==============================] - 5s 2ms/step - loss: 0.5243 - accuracy: 0.8141\n",
            "Epoch 2/5\n",
            "1875/1875 [==============================] - 4s 2ms/step - loss: 0.2710 - accuracy: 0.9019\n",
            "Epoch 3/5\n",
            "1875/1875 [==============================] - 4s 2ms/step - loss: 0.2204 - accuracy: 0.9180\n",
            "Epoch 4/5\n",
            "1875/1875 [==============================] - 4s 2ms/step - loss: 0.1866 - accuracy: 0.9303\n",
            "Epoch 5/5\n",
            "1875/1875 [==============================] - 4s 2ms/step - loss: 0.1509 - accuracy: 0.9451\n",
            "313/313 [==============================] - 1s 2ms/step - loss: 0.2482 - accuracy: 0.9129\n",
            "\n",
            "Test accuracy: 0.9128999710083008\n",
            "\n",
            "Test loss: 0.2481919229030609\n",
            "Model: \"sequential_3\"\n",
            "_________________________________________________________________\n",
            "Layer (type)                 Output Shape              Param #   \n",
            "=================================================================\n",
            "conv2d_2 (Conv2D)            (None, 26, 26, 64)        640       \n",
            "_________________________________________________________________\n",
            "max_pooling2d_2 (MaxPooling2 (None, 13, 13, 64)        0         \n",
            "_________________________________________________________________\n",
            "flatten_3 (Flatten)          (None, 10816)             0         \n",
            "_________________________________________________________________\n",
            "dense_6 (Dense)              (None, 128)               1384576   \n",
            "_________________________________________________________________\n",
            "dense_7 (Dense)              (None, 10)                1290      \n",
            "=================================================================\n",
            "Total params: 1,386,506\n",
            "Trainable params: 1,386,506\n",
            "Non-trainable params: 0\n",
            "_________________________________________________________________\n",
            "Epoch 1/5\n",
            "1875/1875 [==============================] - 5s 2ms/step - loss: 0.5001 - accuracy: 0.8245\n",
            "Epoch 2/5\n",
            "1875/1875 [==============================] - 5s 2ms/step - loss: 0.2558 - accuracy: 0.9075\n",
            "Epoch 3/5\n",
            "1875/1875 [==============================] - 5s 2ms/step - loss: 0.2046 - accuracy: 0.9241\n",
            "Epoch 4/5\n",
            "1875/1875 [==============================] - 5s 2ms/step - loss: 0.1659 - accuracy: 0.9401\n",
            "Epoch 5/5\n",
            "1875/1875 [==============================] - 5s 2ms/step - loss: 0.1362 - accuracy: 0.9490\n",
            "313/313 [==============================] - 1s 2ms/step - loss: 0.2494 - accuracy: 0.9168\n",
            "\n",
            "Test accuracy: 0.9168000221252441\n",
            "\n",
            "Test loss: 0.2493896186351776\n",
            "Model: \"sequential_4\"\n",
            "_________________________________________________________________\n",
            "Layer (type)                 Output Shape              Param #   \n",
            "=================================================================\n",
            "conv2d_3 (Conv2D)            (None, 26, 26, 128)       1280      \n",
            "_________________________________________________________________\n",
            "max_pooling2d_3 (MaxPooling2 (None, 13, 13, 128)       0         \n",
            "_________________________________________________________________\n",
            "flatten_4 (Flatten)          (None, 21632)             0         \n",
            "_________________________________________________________________\n",
            "dense_8 (Dense)              (None, 128)               2769024   \n",
            "_________________________________________________________________\n",
            "dense_9 (Dense)              (None, 10)                1290      \n",
            "=================================================================\n",
            "Total params: 2,771,594\n",
            "Trainable params: 2,771,594\n",
            "Non-trainable params: 0\n",
            "_________________________________________________________________\n",
            "Epoch 1/5\n",
            "1875/1875 [==============================] - 6s 3ms/step - loss: 0.4868 - accuracy: 0.8273\n",
            "Epoch 2/5\n",
            "1875/1875 [==============================] - 6s 3ms/step - loss: 0.2525 - accuracy: 0.9060\n",
            "Epoch 3/5\n",
            "1875/1875 [==============================] - 6s 3ms/step - loss: 0.1983 - accuracy: 0.9265\n",
            "Epoch 4/5\n",
            "1875/1875 [==============================] - 6s 3ms/step - loss: 0.1608 - accuracy: 0.9400\n",
            "Epoch 5/5\n",
            "1875/1875 [==============================] - 6s 3ms/step - loss: 0.1314 - accuracy: 0.9511\n",
            "313/313 [==============================] - 1s 2ms/step - loss: 0.2633 - accuracy: 0.9098\n",
            "\n",
            "Test accuracy: 0.9097999930381775\n",
            "\n",
            "Test loss: 0.2633351683616638\n"
          ],
          "name": "stdout"
        },
        {
          "output_type": "display_data",
          "data": {
            "image/png": "[encoded data removed]",
            "text/plain": [
              "<Figure size 432x288 with 1 Axes>"
            ]
          },
          "metadata": {
            "tags": [],
            "needs_background": "light"
          }
        }
      ]
    },
    {
      "cell_type": "code",
      "metadata": {
        "id": "Wo6EczxmROVI"
      },
      "source": [
        ""
      ],
      "execution_count": null,
      "outputs": []
    }
  ]
}